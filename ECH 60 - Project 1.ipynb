{
 "cells": [
  {
   "cell_type": "code",
   "execution_count": null,
   "metadata": {},
   "outputs": [],
   "source": [
    "# -- import libraries\n",
    "import numpy as np\n",
    "import matplotlib.pyplot as plt\n",
    "import scipy.optimize\n",
    "\n",
    "# -- Antoine coefficients for ethylene from 149.37 K to 188.57 K\n",
    "Ae = 3.87261\n",
    "Be = 584.146\n",
    "Ce = -18.307\n",
    "\n",
    "# -- Antoine coefficients for propane from 230.6 K to 320.7 K\n",
    "Ap = 3.98292\n",
    "Bp = 819.296\n",
    "Cp = -24.417\n",
    "\n",
    "# define Antoine function\n",
    "def antoine(T, A, B, C):\n",
    "    logPv = np.log10(A - (B / (T + C)))\n",
    "    Pv = (10 ** logPv) * 0.00131579\n",
    "    return Pv"
   ]
  }
 ],
 "metadata": {
  "kernelspec": {
   "display_name": "Python 3",
   "language": "python",
   "name": "python3"
  },
  "language_info": {
   "codemirror_mode": {
    "name": "ipython",
    "version": 3
   },
   "file_extension": ".py",
   "mimetype": "text/x-python",
   "name": "python",
   "nbconvert_exporter": "python",
   "pygments_lexer": "ipython3",
   "version": "3.8.5"
  }
 },
 "nbformat": 4,
 "nbformat_minor": 4
}
